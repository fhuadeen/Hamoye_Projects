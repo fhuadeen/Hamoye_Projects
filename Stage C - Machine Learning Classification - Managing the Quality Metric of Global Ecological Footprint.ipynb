{
 "cells": [
  {
   "cell_type": "markdown",
   "metadata": {},
   "source": [
    "## Import relevant libraries"
   ]
  },
  {
   "cell_type": "code",
   "execution_count": 25,
   "metadata": {},
   "outputs": [],
   "source": [
    "import numpy as np\n",
    "import pandas as pd\n",
    "import matplotlib.pyplot as plt\n",
    "import seaborn as sns\n",
    "%matplotlib inline\n",
    "from sklearn.model_selection import train_test_split\n",
    "from sklearn.preprocessing import StandardScaler\n",
    "from sklearn.ensemble import RandomForestClassifier\n",
    "from sklearn.ensemble import ExtraTreesClassifier\n",
    "from sklearn.model_selection import KFold\n",
    "from sklearn.model_selection import cross_val_score\n",
    "from lightgbm import LGBMClassifier\n",
    "from xgboost import XGBClassifier\n",
    "from sklearn.metrics import confusion_matrix\n",
    "from sklearn.metrics import classification_report\n",
    "from sklearn.model_selection import RandomizedSearchCV"
   ]
  },
  {
   "cell_type": "code",
   "execution_count": 2,
   "metadata": {},
   "outputs": [
    {
     "data": {
      "text/html": [
       "<div>\n",
       "<style scoped>\n",
       "    .dataframe tbody tr th:only-of-type {\n",
       "        vertical-align: middle;\n",
       "    }\n",
       "\n",
       "    .dataframe tbody tr th {\n",
       "        vertical-align: top;\n",
       "    }\n",
       "\n",
       "    .dataframe thead th {\n",
       "        text-align: right;\n",
       "    }\n",
       "</style>\n",
       "<table border=\"1\" class=\"dataframe\">\n",
       "  <thead>\n",
       "    <tr style=\"text-align: right;\">\n",
       "      <th></th>\n",
       "      <th>tau1</th>\n",
       "      <th>tau2</th>\n",
       "      <th>tau3</th>\n",
       "      <th>tau4</th>\n",
       "      <th>p1</th>\n",
       "      <th>p2</th>\n",
       "      <th>p3</th>\n",
       "      <th>p4</th>\n",
       "      <th>g1</th>\n",
       "      <th>g2</th>\n",
       "      <th>g3</th>\n",
       "      <th>g4</th>\n",
       "      <th>stab</th>\n",
       "      <th>stabf</th>\n",
       "    </tr>\n",
       "  </thead>\n",
       "  <tbody>\n",
       "    <tr>\n",
       "      <th>0</th>\n",
       "      <td>2.959060</td>\n",
       "      <td>3.079885</td>\n",
       "      <td>8.381025</td>\n",
       "      <td>9.780754</td>\n",
       "      <td>3.763085</td>\n",
       "      <td>-0.782604</td>\n",
       "      <td>-1.257395</td>\n",
       "      <td>-1.723086</td>\n",
       "      <td>0.650456</td>\n",
       "      <td>0.859578</td>\n",
       "      <td>0.887445</td>\n",
       "      <td>0.958034</td>\n",
       "      <td>0.055347</td>\n",
       "      <td>unstable</td>\n",
       "    </tr>\n",
       "    <tr>\n",
       "      <th>1</th>\n",
       "      <td>9.304097</td>\n",
       "      <td>4.902524</td>\n",
       "      <td>3.047541</td>\n",
       "      <td>1.369357</td>\n",
       "      <td>5.067812</td>\n",
       "      <td>-1.940058</td>\n",
       "      <td>-1.872742</td>\n",
       "      <td>-1.255012</td>\n",
       "      <td>0.413441</td>\n",
       "      <td>0.862414</td>\n",
       "      <td>0.562139</td>\n",
       "      <td>0.781760</td>\n",
       "      <td>-0.005957</td>\n",
       "      <td>stable</td>\n",
       "    </tr>\n",
       "    <tr>\n",
       "      <th>2</th>\n",
       "      <td>8.971707</td>\n",
       "      <td>8.848428</td>\n",
       "      <td>3.046479</td>\n",
       "      <td>1.214518</td>\n",
       "      <td>3.405158</td>\n",
       "      <td>-1.207456</td>\n",
       "      <td>-1.277210</td>\n",
       "      <td>-0.920492</td>\n",
       "      <td>0.163041</td>\n",
       "      <td>0.766689</td>\n",
       "      <td>0.839444</td>\n",
       "      <td>0.109853</td>\n",
       "      <td>0.003471</td>\n",
       "      <td>unstable</td>\n",
       "    </tr>\n",
       "    <tr>\n",
       "      <th>3</th>\n",
       "      <td>0.716415</td>\n",
       "      <td>7.669600</td>\n",
       "      <td>4.486641</td>\n",
       "      <td>2.340563</td>\n",
       "      <td>3.963791</td>\n",
       "      <td>-1.027473</td>\n",
       "      <td>-1.938944</td>\n",
       "      <td>-0.997374</td>\n",
       "      <td>0.446209</td>\n",
       "      <td>0.976744</td>\n",
       "      <td>0.929381</td>\n",
       "      <td>0.362718</td>\n",
       "      <td>0.028871</td>\n",
       "      <td>unstable</td>\n",
       "    </tr>\n",
       "    <tr>\n",
       "      <th>4</th>\n",
       "      <td>3.134112</td>\n",
       "      <td>7.608772</td>\n",
       "      <td>4.943759</td>\n",
       "      <td>9.857573</td>\n",
       "      <td>3.525811</td>\n",
       "      <td>-1.125531</td>\n",
       "      <td>-1.845975</td>\n",
       "      <td>-0.554305</td>\n",
       "      <td>0.797110</td>\n",
       "      <td>0.455450</td>\n",
       "      <td>0.656947</td>\n",
       "      <td>0.820923</td>\n",
       "      <td>0.049860</td>\n",
       "      <td>unstable</td>\n",
       "    </tr>\n",
       "  </tbody>\n",
       "</table>\n",
       "</div>"
      ],
      "text/plain": [
       "       tau1      tau2      tau3      tau4        p1        p2        p3  \\\n",
       "0  2.959060  3.079885  8.381025  9.780754  3.763085 -0.782604 -1.257395   \n",
       "1  9.304097  4.902524  3.047541  1.369357  5.067812 -1.940058 -1.872742   \n",
       "2  8.971707  8.848428  3.046479  1.214518  3.405158 -1.207456 -1.277210   \n",
       "3  0.716415  7.669600  4.486641  2.340563  3.963791 -1.027473 -1.938944   \n",
       "4  3.134112  7.608772  4.943759  9.857573  3.525811 -1.125531 -1.845975   \n",
       "\n",
       "         p4        g1        g2        g3        g4      stab     stabf  \n",
       "0 -1.723086  0.650456  0.859578  0.887445  0.958034  0.055347  unstable  \n",
       "1 -1.255012  0.413441  0.862414  0.562139  0.781760 -0.005957    stable  \n",
       "2 -0.920492  0.163041  0.766689  0.839444  0.109853  0.003471  unstable  \n",
       "3 -0.997374  0.446209  0.976744  0.929381  0.362718  0.028871  unstable  \n",
       "4 -0.554305  0.797110  0.455450  0.656947  0.820923  0.049860  unstable  "
      ]
     },
     "execution_count": 2,
     "metadata": {},
     "output_type": "execute_result"
    }
   ],
   "source": [
    "# import dataset\n",
    "url = 'https://archive.ics.uci.edu/ml/machine-learning-databases/00471/Data_for_UCI_named.csv'\n",
    "df = pd.read_csv(url)\n",
    "df.head()"
   ]
  },
  {
   "cell_type": "markdown",
   "metadata": {},
   "source": [
    "## Preprocess the data"
   ]
  },
  {
   "cell_type": "code",
   "execution_count": 3,
   "metadata": {},
   "outputs": [],
   "source": [
    "# save data to local machine\n",
    "df.to_csv('Data_for_UCI_named.csv')"
   ]
  },
  {
   "cell_type": "code",
   "execution_count": 3,
   "metadata": {},
   "outputs": [],
   "source": [
    "# drop the numerical target variable (stab)\n",
    "df = df.drop(['stab'], axis=1)"
   ]
  },
  {
   "cell_type": "code",
   "execution_count": 4,
   "metadata": {},
   "outputs": [],
   "source": [
    "# split data into train and test sets\n",
    "train, test = train_test_split(df, test_size=.2, random_state=1)"
   ]
  },
  {
   "cell_type": "code",
   "execution_count": 5,
   "metadata": {},
   "outputs": [
    {
     "data": {
      "text/html": [
       "<div>\n",
       "<style scoped>\n",
       "    .dataframe tbody tr th:only-of-type {\n",
       "        vertical-align: middle;\n",
       "    }\n",
       "\n",
       "    .dataframe tbody tr th {\n",
       "        vertical-align: top;\n",
       "    }\n",
       "\n",
       "    .dataframe thead th {\n",
       "        text-align: right;\n",
       "    }\n",
       "</style>\n",
       "<table border=\"1\" class=\"dataframe\">\n",
       "  <thead>\n",
       "    <tr style=\"text-align: right;\">\n",
       "      <th></th>\n",
       "      <th>tau1</th>\n",
       "      <th>tau2</th>\n",
       "      <th>tau3</th>\n",
       "      <th>tau4</th>\n",
       "      <th>p1</th>\n",
       "      <th>p2</th>\n",
       "      <th>p3</th>\n",
       "      <th>p4</th>\n",
       "      <th>g1</th>\n",
       "      <th>g2</th>\n",
       "      <th>g3</th>\n",
       "      <th>g4</th>\n",
       "    </tr>\n",
       "  </thead>\n",
       "  <tbody>\n",
       "    <tr>\n",
       "      <th>2694</th>\n",
       "      <td>6.255995</td>\n",
       "      <td>2.542401</td>\n",
       "      <td>7.024714</td>\n",
       "      <td>9.476518</td>\n",
       "      <td>3.529888</td>\n",
       "      <td>-1.224881</td>\n",
       "      <td>-0.688228</td>\n",
       "      <td>-1.616780</td>\n",
       "      <td>0.568221</td>\n",
       "      <td>0.618403</td>\n",
       "      <td>0.685739</td>\n",
       "      <td>0.660088</td>\n",
       "    </tr>\n",
       "    <tr>\n",
       "      <th>5140</th>\n",
       "      <td>5.070581</td>\n",
       "      <td>5.490253</td>\n",
       "      <td>8.075688</td>\n",
       "      <td>0.761075</td>\n",
       "      <td>4.220888</td>\n",
       "      <td>-1.280596</td>\n",
       "      <td>-1.902185</td>\n",
       "      <td>-1.038107</td>\n",
       "      <td>0.443515</td>\n",
       "      <td>0.097244</td>\n",
       "      <td>0.916955</td>\n",
       "      <td>0.129254</td>\n",
       "    </tr>\n",
       "  </tbody>\n",
       "</table>\n",
       "</div>"
      ],
      "text/plain": [
       "          tau1      tau2      tau3      tau4        p1        p2        p3  \\\n",
       "2694  6.255995  2.542401  7.024714  9.476518  3.529888 -1.224881 -0.688228   \n",
       "5140  5.070581  5.490253  8.075688  0.761075  4.220888 -1.280596 -1.902185   \n",
       "\n",
       "            p4        g1        g2        g3        g4  \n",
       "2694 -1.616780  0.568221  0.618403  0.685739  0.660088  \n",
       "5140 -1.038107  0.443515  0.097244  0.916955  0.129254  "
      ]
     },
     "execution_count": 5,
     "metadata": {},
     "output_type": "execute_result"
    }
   ],
   "source": [
    "# split out predictors and target variables from datasets\n",
    "x_train = train.drop(['stabf'], axis=1)\n",
    "y_train = train['stabf']\n",
    "x_test = test.drop(['stabf'], axis=1)\n",
    "y_test = test.stabf\n",
    "x_train.head(2)"
   ]
  },
  {
   "cell_type": "code",
   "execution_count": 6,
   "metadata": {},
   "outputs": [],
   "source": [
    "# create a copy of the train and test predictors for easy retrieval of the originals if needed\n",
    "# REMOVE IF NOT USED\n",
    "\n",
    "\n",
    "\n",
    "x_train_copy, x_test_copy = x_train.copy(), x_test.copy()"
   ]
  },
  {
   "cell_type": "code",
   "execution_count": 7,
   "metadata": {},
   "outputs": [
    {
     "data": {
      "text/plain": [
       "array([[ 0.36732671, -0.98604156,  0.65044706, ...,  0.33985949,\n",
       "         0.58556788,  0.49223946],\n",
       "       [-0.06465869,  0.08943734,  1.03507899, ..., -1.5584875 ,\n",
       "         1.42964862, -1.44352101],\n",
       "       [-1.46785   ,  1.29841758, -0.50253617, ...,  1.45153362,\n",
       "        -1.04574277,  0.49248925],\n",
       "       ...,\n",
       "       [ 0.65760851, -0.72275633, -1.4058879 , ...,  0.29310048,\n",
       "        -1.55058661,  0.81034412],\n",
       "       [-0.05931596, -1.26053241, -1.01047147, ..., -0.38825455,\n",
       "        -0.72678059,  1.66791568],\n",
       "       [-1.47321368,  0.63843757,  0.25012249, ..., -1.17410957,\n",
       "         1.179282  ,  0.78362657]])"
      ]
     },
     "execution_count": 7,
     "metadata": {},
     "output_type": "execute_result"
    }
   ],
   "source": [
    "# Scaled the predictors (train and test)\n",
    "scaler = StandardScaler()\n",
    "x_train_scaled = scaler.fit_transform(x_train)\n",
    "x_test_scaled = scaler.transform(x_test)\n",
    "x_train_scaled"
   ]
  },
  {
   "cell_type": "markdown",
   "metadata": {},
   "source": [
    "## spot check the algorithms on the dataset using k=5 fold cross validation"
   ]
  },
  {
   "cell_type": "code",
   "execution_count": 37,
   "metadata": {},
   "outputs": [
    {
     "name": "stderr",
     "output_type": "stream",
     "text": [
      "C:\\Users\\USER\\AppData\\Local\\Continuum\\anaconda3\\lib\\site-packages\\sklearn\\model_selection\\_split.py:297: FutureWarning: Setting a random_state has no effect since shuffle is False. This will raise an error in 0.24. You should leave random_state to its default (None), or set shuffle=True.\n",
      "  FutureWarning\n"
     ]
    },
    {
     "name": "stdout",
     "output_type": "stream",
     "text": [
      "RFC: 0.977810 (0.002702)\n"
     ]
    },
    {
     "name": "stderr",
     "output_type": "stream",
     "text": [
      "C:\\Users\\USER\\AppData\\Local\\Continuum\\anaconda3\\lib\\site-packages\\sklearn\\model_selection\\_split.py:297: FutureWarning: Setting a random_state has no effect since shuffle is False. This will raise an error in 0.24. You should leave random_state to its default (None), or set shuffle=True.\n",
      "  FutureWarning\n"
     ]
    },
    {
     "name": "stdout",
     "output_type": "stream",
     "text": [
      "ETC: 0.983209 (0.001934)\n"
     ]
    },
    {
     "name": "stderr",
     "output_type": "stream",
     "text": [
      "C:\\Users\\USER\\AppData\\Local\\Continuum\\anaconda3\\lib\\site-packages\\sklearn\\model_selection\\_split.py:297: FutureWarning: Setting a random_state has no effect since shuffle is False. This will raise an error in 0.24. You should leave random_state to its default (None), or set shuffle=True.\n",
      "  FutureWarning\n"
     ]
    },
    {
     "name": "stdout",
     "output_type": "stream",
     "text": [
      "XGB: 0.977406 (0.003840)\n"
     ]
    },
    {
     "name": "stderr",
     "output_type": "stream",
     "text": [
      "C:\\Users\\USER\\AppData\\Local\\Continuum\\anaconda3\\lib\\site-packages\\sklearn\\model_selection\\_split.py:297: FutureWarning: Setting a random_state has no effect since shuffle is False. This will raise an error in 0.24. You should leave random_state to its default (None), or set shuffle=True.\n",
      "  FutureWarning\n"
     ]
    },
    {
     "name": "stdout",
     "output_type": "stream",
     "text": [
      "LGB: 0.987849 (0.002330)\n"
     ]
    }
   ],
   "source": [
    "models = []\n",
    "\n",
    "models.append(('RFC', RandomForestClassifier()))\n",
    "models.append(('ETC', ExtraTreesClassifier()))\n",
    "models.append(('XGB', XGBClassifier()))\n",
    "models.append(('LGB', LGBMClassifier()))\n",
    "\n",
    "\n",
    "# empty lists to store model names and results\n",
    "results = []\n",
    "names = []\n",
    "\n",
    "# Kfold and cross validation parameters\n",
    "seed = 1\n",
    "num_fold = 5\n",
    "scoring = 'roc_auc'\n",
    "\n",
    "for name, model in models:\n",
    "    kfold = KFold(n_splits=num_fold,\n",
    "                  random_state=seed)\n",
    "    cv_results = cross_val_score(model,\n",
    "                                 x_train_scaled,\n",
    "                                 y_train, cv=kfold,\n",
    "                                 scoring=scoring)\n",
    "    \n",
    "    \n",
    "    # append each model results into empty lists created\n",
    "    results.append(cv_results)\n",
    "    names.append(name)\n",
    "    \n",
    "    see_results = '%s: %f (%f)' % (name,\n",
    "                                   cv_results.mean(),\n",
    "                                   cv_results.std())\n",
    "    print(see_results)"
   ]
  },
  {
   "cell_type": "code",
   "execution_count": 38,
   "metadata": {},
   "outputs": [
    {
     "data": {
      "image/png": "[encoded data removed]",
      "text/plain": [
       "<Figure size 432x288 with 1 Axes>"
      ]
     },
     "metadata": {
      "needs_background": "light"
     },
     "output_type": "display_data"
    }
   ],
   "source": [
    "# Compare Algorithms\n",
    "fig = plt.figure()\n",
    "fig.suptitle('Algorithm Comparison')\n",
    "ax = fig.add_subplot(111)\n",
    "plt.boxplot(results)\n",
    "ax.set_xticklabels(names)\n",
    "plt.show()"
   ]
  },
  {
   "cell_type": "markdown",
   "metadata": {},
   "source": [
    "## Hyperparameter tuning"
   ]
  },
  {
   "cell_type": "markdown",
   "metadata": {},
   "source": [
    "##### Tuning extra trees classifier"
   ]
  },
  {
   "cell_type": "code",
   "execution_count": 45,
   "metadata": {},
   "outputs": [],
   "source": [
    "# instantiate model\n",
    "etc_model = ExtraTreesClassifier()\n",
    "\n",
    "# set hyperparameters\n",
    "n_estimators = [50, 100, 300, 500, 1000]\n",
    "\n",
    "min_samples_split = [2, 3, 5, 7, 9]\n",
    "\n",
    "min_samples_leaf = [1, 2, 4, 6, 8]\n",
    "\n",
    "max_features = ['auto', 'sqrt', 'log2', None] \n",
    "\n",
    "hyperparam_grid = {'n_estimators': n_estimators,\n",
    "                       'min_samples_leaf': min_samples_leaf,\n",
    "                       'min_samples_split': min_samples_split,\n",
    "                       'max_features': max_features}\n",
    "\n",
    "seed = 1\n",
    "num_fold = 5\n",
    "scoring = 'roc_auc'\n",
    "\n",
    "# run randomsearch\n",
    "kfold = KFold(n_splits=num_fold)\n",
    "grid_search = RandomizedSearchCV(estimator=etc_model,\n",
    "                                 param_distributions=hyperparam_grid,\n",
    "                                 scoring=scoring, cv=kfold)\n",
    "grid_result = grid_search.fit(x_train_scaled, y_train)"
   ]
  },
  {
   "cell_type": "code",
   "execution_count": 46,
   "metadata": {},
   "outputs": [
    {
     "name": "stdout",
     "output_type": "stream",
     "text": [
      "Best ROC_AUC: 0.987002 using {'n_estimators': 1000, 'min_samples_split': 3, 'min_samples_leaf': 2, 'max_features': 'sqrt'}\n",
      "0.983259 (0.002278) with: {'n_estimators': 1000, 'min_samples_split': 3, 'min_samples_leaf': 6, 'max_features': None}\n",
      "0.986263 (0.002124) with: {'n_estimators': 300, 'min_samples_split': 3, 'min_samples_leaf': 2, 'max_features': 'sqrt'}\n",
      "0.985341 (0.002156) with: {'n_estimators': 300, 'min_samples_split': 3, 'min_samples_leaf': 4, 'max_features': 'log2'}\n",
      "0.985052 (0.002163) with: {'n_estimators': 500, 'min_samples_split': 5, 'min_samples_leaf': 6, 'max_features': 'log2'}\n",
      "0.980422 (0.001870) with: {'n_estimators': 50, 'min_samples_split': 5, 'min_samples_leaf': 1, 'max_features': 'log2'}\n",
      "0.980901 (0.002782) with: {'n_estimators': 50, 'min_samples_split': 7, 'min_samples_leaf': 1, 'max_features': None}\n",
      "0.983833 (0.001980) with: {'n_estimators': 300, 'min_samples_split': 2, 'min_samples_leaf': 2, 'max_features': None}\n",
      "0.984881 (0.001664) with: {'n_estimators': 100, 'min_samples_split': 5, 'min_samples_leaf': 1, 'max_features': 'auto'}\n",
      "0.987002 (0.001856) with: {'n_estimators': 1000, 'min_samples_split': 3, 'min_samples_leaf': 2, 'max_features': 'sqrt'}\n",
      "0.984743 (0.002353) with: {'n_estimators': 300, 'min_samples_split': 9, 'min_samples_leaf': 6, 'max_features': 'auto'}\n"
     ]
    }
   ],
   "source": [
    "# print results\n",
    "print(\"Best ROC_AUC: %f using %s\" % (grid_result.best_score_,\n",
    "                                     grid_result.best_params_))\n",
    "means = grid_result.cv_results_['mean_test_score']\n",
    "stds = grid_result.cv_results_['std_test_score']\n",
    "params = grid_result.cv_results_['params']\n",
    "for mean, stdev, param in zip(means, stds, params):\n",
    "    print(\"%f (%f) with: %r\" % (mean, stdev, param))"
   ]
  },
  {
   "cell_type": "markdown",
   "metadata": {},
   "source": [
    "##### Tuning random forest classifier"
   ]
  },
  {
   "cell_type": "code",
   "execution_count": 47,
   "metadata": {},
   "outputs": [
    {
     "name": "stdout",
     "output_type": "stream",
     "text": [
      "Best ROC_AUC: 0.986932 using {'n_estimators': 1000, 'min_samples_split': 5, 'min_samples_leaf': 2, 'max_features': 'sqrt'}\n",
      "0.983966 (0.001562) with: {'n_estimators': 100, 'min_samples_split': 2, 'min_samples_leaf': 2, 'max_features': 'sqrt'}\n",
      "0.984059 (0.001893) with: {'n_estimators': 100, 'min_samples_split': 7, 'min_samples_leaf': 1, 'max_features': 'log2'}\n",
      "0.981320 (0.002574) with: {'n_estimators': 100, 'min_samples_split': 3, 'min_samples_leaf': 8, 'max_features': 'auto'}\n",
      "0.985351 (0.001853) with: {'n_estimators': 300, 'min_samples_split': 7, 'min_samples_leaf': 4, 'max_features': 'log2'}\n",
      "0.982489 (0.002096) with: {'n_estimators': 100, 'min_samples_split': 9, 'min_samples_leaf': 1, 'max_features': None}\n",
      "0.983337 (0.002290) with: {'n_estimators': 300, 'min_samples_split': 2, 'min_samples_leaf': 8, 'max_features': 'log2'}\n",
      "0.979361 (0.002942) with: {'n_estimators': 50, 'min_samples_split': 3, 'min_samples_leaf': 8, 'max_features': 'sqrt'}\n",
      "0.979941 (0.002603) with: {'n_estimators': 50, 'min_samples_split': 3, 'min_samples_leaf': 6, 'max_features': 'log2'}\n",
      "0.986932 (0.002102) with: {'n_estimators': 1000, 'min_samples_split': 5, 'min_samples_leaf': 2, 'max_features': 'sqrt'}\n",
      "0.986241 (0.002269) with: {'n_estimators': 1000, 'min_samples_split': 7, 'min_samples_leaf': 4, 'max_features': 'auto'}\n"
     ]
    }
   ],
   "source": [
    "# tuning RandomForest Classifier\n",
    "rfc = RandomForestClassifier()\n",
    "\n",
    "# set hyperparameters\n",
    "hyperparam_grid = {'n_estimators': [50, 100, 300, 500, 1000],\n",
    "                   'min_samples_split': [2, 3, 5, 7, 9],\n",
    "                   'min_samples_leaf': [1, 2, 4, 6, 8],\n",
    "                   'max_features': ['auto', 'sqrt', 'log2', None]}\n",
    "\n",
    "\n",
    "seed = 1\n",
    "num_fold = 5\n",
    "scoring = 'roc_auc'\n",
    "\n",
    "# run randomsearch\n",
    "kfold = KFold(n_splits=num_fold)\n",
    "grid_search = RandomizedSearchCV(estimator=etc_model,\n",
    "                                 param_distributions=hyperparam_grid,\n",
    "                                 scoring=scoring, cv=kfold)\n",
    "grid_result = grid_search.fit(x_train_scaled, y_train)\n",
    "\n",
    "# print results\n",
    "print(\"Best ROC_AUC: %f using %s\" % (grid_result.best_score_,\n",
    "                                     grid_result.best_params_))\n",
    "means = grid_result.cv_results_['mean_test_score']\n",
    "stds = grid_result.cv_results_['std_test_score']\n",
    "params = grid_result.cv_results_['params']\n",
    "for mean, stdev, param in zip(means, stds, params):\n",
    "    print(\"%f (%f) with: %r\" % (mean, stdev, param))"
   ]
  },
  {
   "cell_type": "markdown",
   "metadata": {},
   "source": [
    "## Retrain Model with Best Hyperparameters and Predict on Test Set"
   ]
  },
  {
   "cell_type": "code",
   "execution_count": 48,
   "metadata": {},
   "outputs": [],
   "source": [
    "models = []\n",
    "\n",
    "models.append(('RFC',\n",
    "               RandomForestClassifier(n_estimators=1000,\n",
    "                                      min_samples_split= 5,\n",
    "                                      min_samples_leaf=2,\n",
    "                                      max_features='sqrt')))\n",
    "models.append(('ETC',\n",
    "               ExtraTreesClassifier(n_estimators=1000,\n",
    "                                    min_samples_split= 3,\n",
    "                                    min_samples_leaf=2,\n",
    "                                    max_features='sqrt')))\n",
    "\n",
    "report = []\n",
    "conf_matrix = []\n",
    "names = []\n",
    "\n",
    "for name, model in models:\n",
    "    model.fit(x_train_scaled, y_train)\n",
    "    y_pred = model.predict(x_test_scaled)\n",
    "    names.append(name)\n",
    "    conf_matrix.append(confusion_matrix(y_test, y_pred))\n",
    "    report.append(classification_report(y_test, y_pred))"
   ]
  },
  {
   "cell_type": "code",
   "execution_count": 51,
   "metadata": {},
   "outputs": [
    {
     "name": "stdout",
     "output_type": "stream",
     "text": [
      "Report for RandomForestClassifier:\n",
      "RFC\n",
      "[[ 618   94]\n",
      " [  60 1228]]\n",
      "              precision    recall  f1-score   support\n",
      "\n",
      "      stable       0.91      0.87      0.89       712\n",
      "    unstable       0.93      0.95      0.94      1288\n",
      "\n",
      "    accuracy                           0.92      2000\n",
      "   macro avg       0.92      0.91      0.92      2000\n",
      "weighted avg       0.92      0.92      0.92      2000\n",
      "\n"
     ]
    }
   ],
   "source": [
    "print('Report for RandomForestClassifier:')\n",
    "print(names[0])\n",
    "print(conf_matrix[0])\n",
    "print(report[0])"
   ]
  },
  {
   "cell_type": "code",
   "execution_count": 52,
   "metadata": {},
   "outputs": [
    {
     "name": "stdout",
     "output_type": "stream",
     "text": [
      "Report for ExtraTreesClassifier:\n",
      "ETC\n",
      "[[ 595  117]\n",
      " [  15 1273]]\n",
      "              precision    recall  f1-score   support\n",
      "\n",
      "      stable       0.98      0.84      0.90       712\n",
      "    unstable       0.92      0.99      0.95      1288\n",
      "\n",
      "    accuracy                           0.93      2000\n",
      "   macro avg       0.95      0.91      0.93      2000\n",
      "weighted avg       0.94      0.93      0.93      2000\n",
      "\n"
     ]
    }
   ],
   "source": [
    "print('Report for ExtraTreesClassifier:')\n",
    "print(names[1])\n",
    "print(conf_matrix[1])\n",
    "print(report[1])"
   ]
  },
  {
   "cell_type": "code",
   "execution_count": null,
   "metadata": {},
   "outputs": [],
   "source": []
  }
 ],
 "metadata": {
  "kernelspec": {
   "display_name": "Python 3",
   "language": "python",
   "name": "python3"
  },
  "language_info": {
   "codemirror_mode": {
    "name": "ipython",
    "version": 3
   },
   "file_extension": ".py",
   "mimetype": "text/x-python",
   "name": "python",
   "nbconvert_exporter": "python",
   "pygments_lexer": "ipython3",
   "version": "3.7.1"
  }
 },
 "nbformat": 4,
 "nbformat_minor": 2
}
